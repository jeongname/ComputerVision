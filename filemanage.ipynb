{
 "cells": [
  {
   "cell_type": "code",
   "execution_count": 3,
   "id": "14cc278f",
   "metadata": {
    "ExecuteTime": {
     "end_time": "2023-01-18T06:06:57.745808Z",
     "start_time": "2023-01-18T06:06:54.685954Z"
    }
   },
   "outputs": [],
   "source": [
    "# 파일 압축 풀기\n",
    "!unzip -uq \"archive.zip\" -d \"./data/dogncat\""
   ]
  },
  {
   "cell_type": "code",
   "execution_count": 8,
   "id": "3d784b1f",
   "metadata": {
    "ExecuteTime": {
     "end_time": "2023-01-18T06:09:34.213289Z",
     "start_time": "2023-01-18T06:09:33.982022Z"
    }
   },
   "outputs": [],
   "source": [
    "# 폴더 지우기\n",
    "import shutil\n",
    "\n",
    "shutil.rmtree('./dogncat', ignore_errors=True)"
   ]
  }
 ],
 "metadata": {
  "kernelspec": {
   "display_name": "Python 3 (ipykernel)",
   "language": "python",
   "name": "python3"
  },
  "language_info": {
   "codemirror_mode": {
    "name": "ipython",
    "version": 3
   },
   "file_extension": ".py",
   "mimetype": "text/x-python",
   "name": "python",
   "nbconvert_exporter": "python",
   "pygments_lexer": "ipython3",
   "version": "3.8.10"
  },
  "toc": {
   "base_numbering": 1,
   "nav_menu": {},
   "number_sections": false,
   "sideBar": true,
   "skip_h1_title": false,
   "title_cell": "Table of Contents",
   "title_sidebar": "Contents",
   "toc_cell": false,
   "toc_position": {},
   "toc_section_display": true,
   "toc_window_display": false
  }
 },
 "nbformat": 4,
 "nbformat_minor": 5
}
