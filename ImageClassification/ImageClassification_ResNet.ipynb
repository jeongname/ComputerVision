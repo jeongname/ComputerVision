{
 "cells": [
  {
   "cell_type": "markdown",
   "id": "20f66ce8",
   "metadata": {},
   "source": [
    "## ResNet의 기본 블록"
   ]
  },
  {
   "cell_type": "code",
   "execution_count": 36,
   "id": "58808c56",
   "metadata": {
    "ExecuteTime": {
     "end_time": "2023-01-25T04:13:46.256690Z",
     "start_time": "2023-01-25T04:13:46.240319Z"
    }
   },
   "outputs": [],
   "source": [
    "import torch\n",
    "import torch.nn as nn\n",
    "\n",
    "class BasicBlock(nn.Module):\n",
    "    def __init__(self, in_channels, out_channels, kernel_size=3):\n",
    "        super(BasicBlock, self).__init__()\n",
    "        \n",
    "        # ❶ 합성곱층 정의\n",
    "        self.c1 = nn.Conv2d(in_channels, out_channels, \n",
    "                           kernel_size=kernel_size, padding=1)\n",
    "        self.c2 = nn.Conv2d(out_channels, out_channels, \n",
    "                           kernel_size=kernel_size, padding=1)\n",
    "        self.downsample = nn.Conv2d(in_channels, out_channels, \n",
    "                                   kernel_size=1)\n",
    "        \n",
    "        # ❷ 배치 정규화층 정의\n",
    "        self.bn1 = nn.BatchNorm2d(num_features=out_channels)\n",
    "        self.bn2 = nn.BatchNorm2d(num_features=out_channels)\n",
    "        \n",
    "        self.relu = nn.ReLU()\n",
    "    def forward(self, x):\n",
    "        # ❸스킵 커넥션을 위해 초기 입력을 저장\n",
    "        x_ = x\n",
    "        \n",
    "        x = self.c1(x)\n",
    "        x = self.bn1(x)\n",
    "        x = self.relu(x)\n",
    "        x = self.c2(x)\n",
    "        x = self.bn2(x)\n",
    "        \n",
    "        # ➍합성곱의 결과와 입력의 채널 수를 맞춤\n",
    "        x_ = self.downsample(x_)\n",
    "\n",
    "        # ➎합성곱층의 결과와 저장해놨던 입력값을 더해줌\n",
    "        x += x_\n",
    "        x = self.relu(x)\n",
    "        \n",
    "        return x"
   ]
  },
  {
   "cell_type": "markdown",
   "id": "5831005d",
   "metadata": {},
   "source": [
    "## ResNet 모델 정의하기"
   ]
  },
  {
   "cell_type": "code",
   "execution_count": 37,
   "id": "cb17781f",
   "metadata": {
    "ExecuteTime": {
     "end_time": "2023-01-25T04:13:46.934933Z",
     "start_time": "2023-01-25T04:13:46.918808Z"
    }
   },
   "outputs": [],
   "source": [
    "class ResNet(nn.Module):\n",
    "   def __init__(self, num_classes=10):\n",
    "       super(ResNet, self).__init__()\n",
    "\n",
    "\n",
    "       # ❶ 기본 블록\n",
    "       self.b1 = BasicBlock(in_channels=3, out_channels=64)\n",
    "       self.b2 = BasicBlock(in_channels=64, out_channels=128)\n",
    "       self.b3 = BasicBlock(in_channels=128, out_channels=256)\n",
    "\n",
    "\n",
    "       # ❷ 풀링을 최댓값이 아닌 평균값으로\n",
    "       self.pool = nn.AvgPool2d(kernel_size=2, stride=2) \n",
    "\n",
    "       # ❸ 분류기\n",
    "       self.fc1 = nn.Linear(in_features=4096, out_features=2048)\n",
    "       self.fc2 = nn.Linear(in_features=2048, out_features=512)\n",
    "       self.fc3 = nn.Linear(in_features=512, out_features=num_classes)\n",
    "\n",
    "       self.relu = nn.ReLU()\n",
    "   def forward(self, x):\n",
    "       # ❶ 기본 블록과 풀링층을 통과\n",
    "       x = self.b1(x)\n",
    "       x = self.pool(x)\n",
    "       x = self.b2(x)\n",
    "       x = self.pool(x)\n",
    "       x = self.b3(x)\n",
    "       x = self.pool(x)\n",
    "\n",
    "\n",
    "       # ❷ 분류기의 입력으로 사용하기 위해 flatten\n",
    "       x = torch.flatten(x, start_dim=1)\n",
    "\n",
    "       # ❸ 분류기로 예측값 출력\n",
    "       x = self.fc1(x)\n",
    "       x = self.relu(x)\n",
    "       x = self.fc2(x)\n",
    "       x = self.relu(x)\n",
    "       x = self.fc3(x)\n",
    "\n",
    "       return x"
   ]
  },
  {
   "cell_type": "markdown",
   "id": "e89c38a0",
   "metadata": {},
   "source": [
    "## 데이터 전처리"
   ]
  },
  {
   "cell_type": "code",
   "execution_count": 38,
   "id": "0d3799c3",
   "metadata": {
    "ExecuteTime": {
     "end_time": "2023-01-25T04:13:47.458755Z",
     "start_time": "2023-01-25T04:13:47.447627Z"
    }
   },
   "outputs": [],
   "source": [
    "import tqdm\n",
    "\n",
    "from torchvision.datasets.cifar import CIFAR10\n",
    "from torchvision.transforms import Compose, ToTensor\n",
    "from torchvision.transforms import RandomHorizontalFlip, RandomCrop\n",
    "from torchvision.transforms import Normalize\n",
    "from torch.utils.data.dataloader import DataLoader\n",
    "\n",
    "from torch.optim.adam import Adam\n",
    "\n",
    "transforms = Compose([\n",
    "   RandomCrop((32, 32), padding=4), #❶ 랜덤 크롭핑\n",
    "   RandomHorizontalFlip(p=0.5), #❷ 랜덤 y축 대칭\n",
    "   ToTensor(),\n",
    "   Normalize(mean=(0.4914, 0.4822, 0.4465), std=(0.247, 0.243, 0.261))\n",
    "])"
   ]
  },
  {
   "cell_type": "markdown",
   "id": "fc945657",
   "metadata": {},
   "source": [
    "## 데이터 불러오기"
   ]
  },
  {
   "cell_type": "code",
   "execution_count": 39,
   "id": "29aebd7f",
   "metadata": {
    "ExecuteTime": {
     "end_time": "2023-01-25T04:13:49.351387Z",
     "start_time": "2023-01-25T04:13:47.903204Z"
    }
   },
   "outputs": [
    {
     "name": "stdout",
     "output_type": "stream",
     "text": [
      "Files already downloaded and verified\n",
      "Files already downloaded and verified\n"
     ]
    }
   ],
   "source": [
    "training_data = CIFAR10(root=\"./\", train=True, download=True, transform=transforms)\n",
    "test_data = CIFAR10(root=\"./\", train=False, download=True, transform=transforms)\n",
    "\n",
    "train_loader = DataLoader(training_data, batch_size=32, shuffle=True)\n",
    "test_loader = DataLoader(test_data, batch_size=32, shuffle=False)"
   ]
  },
  {
   "cell_type": "markdown",
   "id": "81ad1f3c",
   "metadata": {},
   "source": [
    "## 모델 정의하기"
   ]
  },
  {
   "cell_type": "code",
   "execution_count": 40,
   "id": "a2915049",
   "metadata": {
    "ExecuteTime": {
     "end_time": "2023-01-25T04:13:49.459775Z",
     "start_time": "2023-01-25T04:13:49.353088Z"
    }
   },
   "outputs": [
    {
     "data": {
      "text/plain": [
       "ResNet(\n",
       "  (b1): BasicBlock(\n",
       "    (c1): Conv2d(3, 64, kernel_size=(3, 3), stride=(1, 1), padding=(1, 1))\n",
       "    (c2): Conv2d(64, 64, kernel_size=(3, 3), stride=(1, 1), padding=(1, 1))\n",
       "    (downsample): Conv2d(3, 64, kernel_size=(1, 1), stride=(1, 1))\n",
       "    (bn1): BatchNorm2d(64, eps=1e-05, momentum=0.1, affine=True, track_running_stats=True)\n",
       "    (bn2): BatchNorm2d(64, eps=1e-05, momentum=0.1, affine=True, track_running_stats=True)\n",
       "    (relu): ReLU()\n",
       "  )\n",
       "  (b2): BasicBlock(\n",
       "    (c1): Conv2d(64, 128, kernel_size=(3, 3), stride=(1, 1), padding=(1, 1))\n",
       "    (c2): Conv2d(128, 128, kernel_size=(3, 3), stride=(1, 1), padding=(1, 1))\n",
       "    (downsample): Conv2d(64, 128, kernel_size=(1, 1), stride=(1, 1))\n",
       "    (bn1): BatchNorm2d(128, eps=1e-05, momentum=0.1, affine=True, track_running_stats=True)\n",
       "    (bn2): BatchNorm2d(128, eps=1e-05, momentum=0.1, affine=True, track_running_stats=True)\n",
       "    (relu): ReLU()\n",
       "  )\n",
       "  (b3): BasicBlock(\n",
       "    (c1): Conv2d(128, 256, kernel_size=(3, 3), stride=(1, 1), padding=(1, 1))\n",
       "    (c2): Conv2d(256, 256, kernel_size=(3, 3), stride=(1, 1), padding=(1, 1))\n",
       "    (downsample): Conv2d(128, 256, kernel_size=(1, 1), stride=(1, 1))\n",
       "    (bn1): BatchNorm2d(256, eps=1e-05, momentum=0.1, affine=True, track_running_stats=True)\n",
       "    (bn2): BatchNorm2d(256, eps=1e-05, momentum=0.1, affine=True, track_running_stats=True)\n",
       "    (relu): ReLU()\n",
       "  )\n",
       "  (pool): AvgPool2d(kernel_size=2, stride=2, padding=0)\n",
       "  (fc1): Linear(in_features=4096, out_features=2048, bias=True)\n",
       "  (fc2): Linear(in_features=2048, out_features=512, bias=True)\n",
       "  (fc3): Linear(in_features=512, out_features=10, bias=True)\n",
       "  (relu): ReLU()\n",
       ")"
      ]
     },
     "execution_count": 40,
     "metadata": {},
     "output_type": "execute_result"
    }
   ],
   "source": [
    "device = \"cuda\" if torch.cuda.is_available() else \"cpu\"\n",
    "\n",
    "model = ResNet(num_classes=10)\n",
    "model.to(device)"
   ]
  },
  {
   "cell_type": "code",
   "execution_count": 41,
   "id": "979eb554",
   "metadata": {
    "ExecuteTime": {
     "end_time": "2023-01-25T04:30:22.765931Z",
     "start_time": "2023-01-25T04:13:49.461208Z"
    }
   },
   "outputs": [
    {
     "name": "stderr",
     "output_type": "stream",
     "text": [
      "epoch:1 loss:1.0110172033309937: 100%|██████████| 1563/1563 [00:33<00:00, 46.04it/s]\n",
      "epoch:2 loss:0.7391273975372314: 100%|██████████| 1563/1563 [00:33<00:00, 47.28it/s] \n",
      "epoch:3 loss:0.754347562789917: 100%|██████████| 1563/1563 [00:33<00:00, 46.99it/s]  \n",
      "epoch:4 loss:0.3818832337856293: 100%|██████████| 1563/1563 [00:33<00:00, 46.61it/s] \n",
      "epoch:5 loss:0.4281904101371765: 100%|██████████| 1563/1563 [00:32<00:00, 47.63it/s] \n",
      "epoch:6 loss:0.44790032505989075: 100%|██████████| 1563/1563 [00:33<00:00, 46.89it/s]\n",
      "epoch:7 loss:0.15379159152507782: 100%|██████████| 1563/1563 [00:32<00:00, 47.73it/s]\n",
      "epoch:8 loss:0.5311174392700195: 100%|██████████| 1563/1563 [00:32<00:00, 47.75it/s] \n",
      "epoch:9 loss:0.04427831247448921: 100%|██████████| 1563/1563 [00:32<00:00, 47.45it/s]\n",
      "epoch:10 loss:0.33476459980010986: 100%|██████████| 1563/1563 [00:33<00:00, 46.91it/s]\n",
      "epoch:11 loss:0.08372049033641815: 100%|██████████| 1563/1563 [00:33<00:00, 46.89it/s]\n",
      "epoch:12 loss:0.2438032329082489: 100%|██████████| 1563/1563 [00:33<00:00, 46.96it/s]  \n",
      "epoch:13 loss:0.5125728845596313: 100%|██████████| 1563/1563 [00:33<00:00, 46.42it/s]  \n",
      "epoch:14 loss:0.6087701320648193: 100%|██████████| 1563/1563 [00:34<00:00, 45.13it/s]  \n",
      "epoch:15 loss:0.7503226399421692: 100%|██████████| 1563/1563 [00:32<00:00, 48.56it/s]  \n",
      "epoch:16 loss:0.028866268694400787: 100%|██████████| 1563/1563 [00:32<00:00, 48.07it/s]\n",
      "epoch:17 loss:0.08336550742387772: 100%|██████████| 1563/1563 [00:30<00:00, 50.73it/s] \n",
      "epoch:18 loss:0.46678274869918823: 100%|██████████| 1563/1563 [00:32<00:00, 47.83it/s] \n",
      "epoch:19 loss:0.23970100283622742: 100%|██████████| 1563/1563 [00:32<00:00, 48.34it/s] \n",
      "epoch:20 loss:0.3493621349334717: 100%|██████████| 1563/1563 [00:33<00:00, 47.04it/s]   \n",
      "epoch:21 loss:0.19282598793506622: 100%|██████████| 1563/1563 [00:32<00:00, 48.28it/s] \n",
      "epoch:22 loss:0.04097834601998329: 100%|██████████| 1563/1563 [00:32<00:00, 47.94it/s] \n",
      "epoch:23 loss:0.1099725067615509: 100%|██████████| 1563/1563 [00:33<00:00, 46.72it/s]   \n",
      "epoch:24 loss:0.27118948101997375: 100%|██████████| 1563/1563 [00:33<00:00, 47.11it/s]  \n",
      "epoch:25 loss:0.022134341299533844: 100%|██████████| 1563/1563 [00:32<00:00, 48.66it/s]\n",
      "epoch:26 loss:0.009100002236664295: 100%|██████████| 1563/1563 [00:33<00:00, 47.05it/s] \n",
      "epoch:27 loss:0.0050565944984555244: 100%|██████████| 1563/1563 [00:33<00:00, 46.20it/s]\n",
      "epoch:28 loss:0.13352124392986298: 100%|██████████| 1563/1563 [00:33<00:00, 46.49it/s]  \n",
      "epoch:29 loss:0.02241865172982216: 100%|██████████| 1563/1563 [00:34<00:00, 44.70it/s] \n",
      "epoch:30 loss:0.008159855380654335: 100%|██████████| 1563/1563 [00:33<00:00, 46.83it/s] \n"
     ]
    }
   ],
   "source": [
    "lr = 1e-4\n",
    "optim = Adam(model.parameters(), lr=lr)\n",
    "\n",
    "for epoch in range(30):\n",
    "    iterator = tqdm.tqdm(train_loader)\n",
    "    for data, label in iterator:\n",
    "        # 최적화를 위해 기울기를 초기화\n",
    "        optim.zero_grad()\n",
    "    \n",
    "        # 모델의 예측값\n",
    "        preds = model(data.to(device))\n",
    "\n",
    "       # 손실 계산 및 역전파\n",
    "        loss = nn.CrossEntropyLoss()(preds, label.to(device))\n",
    "        loss.backward()\n",
    "        optim.step()\n",
    "\n",
    "        iterator.set_description(f\"epoch:{epoch+1} loss:{loss.item()}\")\n",
    "\n",
    "torch.save(model.state_dict(), \"../ResNet.pth\")"
   ]
  },
  {
   "cell_type": "code",
   "execution_count": 43,
   "id": "7fced8eb",
   "metadata": {
    "ExecuteTime": {
     "end_time": "2023-01-25T06:26:21.531192Z",
     "start_time": "2023-01-25T06:26:17.899999Z"
    }
   },
   "outputs": [
    {
     "name": "stdout",
     "output_type": "stream",
     "text": [
      "Accuracy:0.8797\n"
     ]
    }
   ],
   "source": [
    "model.load_state_dict(torch.load(\"../ResNet.pth\", map_location=device))\n",
    "\n",
    "num_corr = 0\n",
    "\n",
    "with torch.no_grad():\n",
    "    for data, label in test_loader:\n",
    "        output = model(data.to(device))\n",
    "        preds = output.data.max(1)[1]\n",
    "        corr = preds.eq(label.to(device).data).sum().item()\n",
    "        num_corr += corr\n",
    "        \n",
    "    print(f\"Accuracy:{num_corr/len(test_data)}\")"
   ]
  }
 ],
 "metadata": {
  "kernelspec": {
   "display_name": "Python 3 (ipykernel)",
   "language": "python",
   "name": "python3"
  },
  "language_info": {
   "codemirror_mode": {
    "name": "ipython",
    "version": 3
   },
   "file_extension": ".py",
   "mimetype": "text/x-python",
   "name": "python",
   "nbconvert_exporter": "python",
   "pygments_lexer": "ipython3",
   "version": "3.8.10"
  },
  "toc": {
   "base_numbering": 1,
   "nav_menu": {},
   "number_sections": false,
   "sideBar": true,
   "skip_h1_title": false,
   "title_cell": "Table of Contents",
   "title_sidebar": "Contents",
   "toc_cell": false,
   "toc_position": {},
   "toc_section_display": true,
   "toc_window_display": false
  }
 },
 "nbformat": 4,
 "nbformat_minor": 5
}
